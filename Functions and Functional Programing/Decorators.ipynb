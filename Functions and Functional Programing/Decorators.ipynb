{
 "cells": [
  {
   "cell_type": "code",
   "execution_count": 2,
   "id": "810965a7",
   "metadata": {},
   "outputs": [
    {
     "name": "stdout",
     "output_type": "stream",
     "text": [
      "5&10...5&10..."
     ]
    }
   ],
   "source": [
    "def perform_twice(fn, *args, **kwargs):\n",
    "    fn(*args, **kwargs)\n",
    "    fn(*args, **kwargs)\n",
    "\n",
    "perform_twice(print, 5, 10, sep='&', end='...')\n",
    "# 5&10...5&10..."
   ]
  },
  {
   "cell_type": "code",
   "execution_count": 6,
   "id": "b0e82872",
   "metadata": {},
   "outputs": [],
   "source": [
    "def make_divisibility_test(n):\n",
    "    def divisible_by_n(m):\n",
    "        return m % n == 0\n",
    "    return divisible_by_n"
   ]
  },
  {
   "cell_type": "code",
   "execution_count": 7,
   "id": "f1cb58f1",
   "metadata": {},
   "outputs": [
    {
     "data": {
      "text/plain": [
       "(0, 3, 6, 9)"
      ]
     },
     "execution_count": 7,
     "metadata": {},
     "output_type": "execute_result"
    }
   ],
   "source": [
    "div_by_3 = make_divisibility_test(3)\n",
    "tuple(filter(div_by_3, range(10)))  # => (0, 3, 6, 9)"
   ]
  },
  {
   "cell_type": "code",
   "execution_count": 8,
   "id": "3a27cec4",
   "metadata": {},
   "outputs": [
    {
     "data": {
      "text/plain": [
       "True"
      ]
     },
     "execution_count": 8,
     "metadata": {},
     "output_type": "execute_result"
    }
   ],
   "source": [
    "make_divisibility_test(5)(10)  # => True"
   ]
  },
  {
   "cell_type": "code",
   "execution_count": 10,
   "id": "4b689dba",
   "metadata": {},
   "outputs": [],
   "source": [
    "def print_args(function):\n",
    "    def wrapper(*args, **kwargs):\n",
    "        print(args, kwargs)\n",
    "        return function(*args, **kwargs)\n",
    "    return wrapper"
   ]
  },
  {
   "cell_type": "code",
   "execution_count": 11,
   "id": "cb35ca16",
   "metadata": {},
   "outputs": [],
   "source": [
    "def compute(x, y, z=1):\n",
    "    return (x + y) * z"
   ]
  },
  {
   "cell_type": "code",
   "execution_count": 12,
   "id": "4cad5369",
   "metadata": {},
   "outputs": [
    {
     "data": {
      "text/plain": [
       "16"
      ]
     },
     "execution_count": 12,
     "metadata": {},
     "output_type": "execute_result"
    }
   ],
   "source": [
    "compute(3, 5, z=2)\n",
    "# => 16"
   ]
  },
  {
   "cell_type": "code",
   "execution_count": 13,
   "id": "62577dc5",
   "metadata": {},
   "outputs": [
    {
     "name": "stdout",
     "output_type": "stream",
     "text": [
      "(3, 5) {'z': 2}\n"
     ]
    },
    {
     "data": {
      "text/plain": [
       "16"
      ]
     },
     "execution_count": 13,
     "metadata": {},
     "output_type": "execute_result"
    }
   ],
   "source": [
    "compute_log = print_args(compute)\n",
    "compute_log(3, 5, z=2)\n",
    "# (3, 5) {'z': 2}\n",
    "# => 16"
   ]
  },
  {
   "cell_type": "code",
   "execution_count": 14,
   "id": "51fd21ab",
   "metadata": {},
   "outputs": [
    {
     "name": "stdout",
     "output_type": "stream",
     "text": [
      "(3, 5) {'z': 2}\n"
     ]
    },
    {
     "data": {
      "text/plain": [
       "16"
      ]
     },
     "execution_count": 14,
     "metadata": {},
     "output_type": "execute_result"
    }
   ],
   "source": [
    "compute = print_args(compute)\n",
    "compute(3, 5, z=2)\n",
    "# (3, 5) {'z': 2}\n",
    "# => 16"
   ]
  },
  {
   "cell_type": "code",
   "execution_count": 15,
   "id": "1aa30e02",
   "metadata": {},
   "outputs": [],
   "source": [
    "@print_args\n",
    "def compute(x, y, z=1):\n",
    "    return (x + y) * z"
   ]
  },
  {
   "cell_type": "code",
   "execution_count": 17,
   "id": "ecb42cf9",
   "metadata": {},
   "outputs": [],
   "source": [
    "import functools\n",
    "\n",
    "def print_args(function):\n",
    "    @functools.wraps(function)\n",
    "    def wrapper(*args, **kwargs):\n",
    "        print(args, kwargs)\n",
    "        return function(*args, **kwargs)\n",
    "    return wrapper"
   ]
  },
  {
   "cell_type": "markdown",
   "id": "90c9b5a1",
   "metadata": {},
   "source": [
    "## Exercise: Memoize Decorators\n",
    "In this exercise, you'll create a memoize decorator that can be used to cache the result of any pure function – a function whose output is purely a result of its input."
   ]
  },
  {
   "cell_type": "code",
   "execution_count": 1,
   "id": "30ab1c5d",
   "metadata": {},
   "outputs": [],
   "source": [
    "import functools\n",
    "\n",
    "def memoize(function):\n",
    "    function._cache = {}\n",
    "    @functools.wraps(function)\n",
    "    def wrapper(*args, **kwargs):\n",
    "        key = (args, tuple(kwargs.items()))\n",
    "        if key not in function._cache:\n",
    "            function._cache[key] = function(*args, **kwargs)\n",
    "        return function._cache[key]\n",
    "    return wrapper"
   ]
  },
  {
   "cell_type": "markdown",
   "id": "c97742a3",
   "metadata": {},
   "source": [
    "Usando la data almacenada en cache"
   ]
  },
  {
   "cell_type": "code",
   "execution_count": 2,
   "id": "cc29a26f",
   "metadata": {},
   "outputs": [],
   "source": [
    "@memoize\n",
    "def fib(n):\n",
    "    if n < 2:\n",
    "        return n\n",
    "    return fib(n-1) + fib(n-2)"
   ]
  },
  {
   "cell_type": "code",
   "execution_count": 3,
   "id": "6fed687e",
   "metadata": {},
   "outputs": [
    {
     "name": "stdout",
     "output_type": "stream",
     "text": [
      "CPU times: user 114 µs, sys: 7 µs, total: 121 µs\n",
      "Wall time: 126 µs\n"
     ]
    },
    {
     "data": {
      "text/plain": [
       "(55, 6765, 832040)"
      ]
     },
     "execution_count": 3,
     "metadata": {},
     "output_type": "execute_result"
    }
   ],
   "source": [
    "time fib(10), fib(20), fib(30)"
   ]
  },
  {
   "cell_type": "markdown",
   "id": "4056d357",
   "metadata": {},
   "source": [
    "Sin usar la data almacenada en cache"
   ]
  },
  {
   "cell_type": "code",
   "execution_count": 4,
   "id": "22457999",
   "metadata": {},
   "outputs": [],
   "source": [
    "# @memoize\n",
    "def fib(n):\n",
    "    if n < 2:\n",
    "        return n\n",
    "    return fib(n-1) + fib(n-2)"
   ]
  },
  {
   "cell_type": "code",
   "execution_count": 5,
   "id": "989c5ec7",
   "metadata": {},
   "outputs": [
    {
     "name": "stdout",
     "output_type": "stream",
     "text": [
      "CPU times: user 251 ms, sys: 3.29 ms, total: 255 ms\n",
      "Wall time: 253 ms\n"
     ]
    },
    {
     "data": {
      "text/plain": [
       "(55, 6765, 832040)"
      ]
     },
     "execution_count": 5,
     "metadata": {},
     "output_type": "execute_result"
    }
   ],
   "source": [
    "time fib(10), fib(20), fib(30)"
   ]
  },
  {
   "cell_type": "code",
   "execution_count": null,
   "id": "47038fbb",
   "metadata": {},
   "outputs": [],
   "source": []
  }
 ],
 "metadata": {
  "kernelspec": {
   "display_name": "Python 3 (ipykernel)",
   "language": "python",
   "name": "python3"
  },
  "language_info": {
   "codemirror_mode": {
    "name": "ipython",
    "version": 3
   },
   "file_extension": ".py",
   "mimetype": "text/x-python",
   "name": "python",
   "nbconvert_exporter": "python",
   "pygments_lexer": "ipython3",
   "version": "3.9.12"
  }
 },
 "nbformat": 4,
 "nbformat_minor": 5
}
