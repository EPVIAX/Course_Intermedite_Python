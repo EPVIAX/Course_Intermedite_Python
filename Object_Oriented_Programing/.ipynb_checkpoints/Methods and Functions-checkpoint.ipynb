{
 "cells": [
  {
   "cell_type": "markdown",
   "id": "6cccf0ac",
   "metadata": {},
   "source": [
    "Methods and functions aren't precisely the same - a method is a bundle that contains a referenced function and a bound instance object.\n",
    "\n",
    "Let's write a House class that has a paint attribute:"
   ]
  },
  {
   "cell_type": "code",
   "execution_count": 1,
   "id": "211f3f77",
   "metadata": {},
   "outputs": [],
   "source": [
    "class House:\n",
    "    layout = 'square'\n",
    "    def __init__(self, size, color='white'):\n",
    "        self.size = size\n",
    "        self.color = color\n",
    "    def paint(self, color):\n",
    "        self.color = color"
   ]
  },
  {
   "cell_type": "code",
   "execution_count": 2,
   "id": "b8ae64d7",
   "metadata": {},
   "outputs": [
    {
     "name": "stdout",
     "output_type": "stream",
     "text": [
      "1000\n",
      "white\n"
     ]
    }
   ],
   "source": [
    "# We can instantiate a `home` from the class object `House`\n",
    "# (using our `__init__` method!) and resolve attributes.\n",
    "home = House(1000)\n",
    "print(home.size)  # 1000\n",
    "print(home.color)  # white"
   ]
  },
  {
   "cell_type": "code",
   "execution_count": 3,
   "id": "7e4ae0e3",
   "metadata": {},
   "outputs": [
    {
     "name": "stdout",
     "output_type": "stream",
     "text": [
      "square\n",
      "<function House.paint at 0x7f9dc9a3a700>\n"
     ]
    }
   ],
   "source": [
    "# We can resolve attributes on the class object too.\n",
    "print(House.layout)  # square\n",
    "print(House.paint)  # <function House.paint(self, color)>"
   ]
  },
  {
   "cell_type": "markdown",
   "id": "54dfca89",
   "metadata": {},
   "source": [
    "Everything is looking good so far. What if we want to paint our home, or ask for our home's layout? Specifically, what happens if we look at the class object attributes from the lens of the instance object?"
   ]
  },
  {
   "cell_type": "code",
   "execution_count": 4,
   "id": "4de0ddcb",
   "metadata": {},
   "outputs": [
    {
     "name": "stdout",
     "output_type": "stream",
     "text": [
      "square\n",
      "<bound method House.paint of <__main__.House object at 0x7f9db88aee80>>\n"
     ]
    }
   ],
   "source": [
    "print(home.layout)  # square - everything looks normal\n",
    "print(home.paint)  # <bound method House.paint of <House object at 0x...>> - what's this?!"
   ]
  },
  {
   "cell_type": "markdown",
   "id": "9a5944ee",
   "metadata": {},
   "source": [
    "The attribute resolution, upon failing to find a match in home.__dict__, fell back to searching through House.__dict__. For home.layout, everything is normal. For home.paint, something strange happened! We received a method, not a function. Time to investigate."
   ]
  },
  {
   "cell_type": "code",
   "execution_count": 5,
   "id": "31175c58",
   "metadata": {},
   "outputs": [
    {
     "name": "stdout",
     "output_type": "stream",
     "text": [
      "<function House.paint at 0x7f9dc9a3a700>\n",
      "<__main__.House object at 0x7f9db88aee80>\n",
      "True\n"
     ]
    }
   ],
   "source": [
    "# The method contains information about the referenced function and the bound instance object.\n",
    "print(home.paint.__func__)  # <function House.paint(self, color)>\n",
    "print(home.paint.__self__)  # <House at 0x...>\n",
    "print(home.paint.__self__ is home)  # True"
   ]
  },
  {
   "cell_type": "markdown",
   "id": "91b62256",
   "metadata": {},
   "source": [
    "Invoking the method invokes the referenced function, inserting the bound object as the first argument"
   ]
  },
  {
   "cell_type": "code",
   "execution_count": 6,
   "id": "baeb5802",
   "metadata": {},
   "outputs": [
    {
     "name": "stdout",
     "output_type": "stream",
     "text": [
      "red\n"
     ]
    }
   ],
   "source": [
    "home.paint('red')\n",
    "# is equivalent to\n",
    "House.paint(home, 'red')\n",
    "\n",
    "# The home's color is indeed changed after painting the home.\n",
    "print(home.color)  # red"
   ]
  },
  {
   "cell_type": "code",
   "execution_count": 7,
   "id": "7c748491",
   "metadata": {},
   "outputs": [
    {
     "name": "stdout",
     "output_type": "stream",
     "text": [
      "blue\n"
     ]
    }
   ],
   "source": [
    "home.paint('blue')\n",
    "print(home.color)"
   ]
  }
 ],
 "metadata": {
  "kernelspec": {
   "display_name": "Python 3 (ipykernel)",
   "language": "python",
   "name": "python3"
  },
  "language_info": {
   "codemirror_mode": {
    "name": "ipython",
    "version": 3
   },
   "file_extension": ".py",
   "mimetype": "text/x-python",
   "name": "python",
   "nbconvert_exporter": "python",
   "pygments_lexer": "ipython3",
   "version": "3.9.12"
  }
 },
 "nbformat": 4,
 "nbformat_minor": 5
}
