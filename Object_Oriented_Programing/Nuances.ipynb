{
 "cells": [
  {
   "cell_type": "markdown",
   "id": "7357a560",
   "metadata": {},
   "source": [
    "## Shared Information\n",
    "Attribute resolution can be a touchy subject - we've seen that class objects and instances objects can have attributes (stored in a special __dict__ attribute), and that we can resolve these attributes, but that subtleties sometimes arise, as with the distinction between methods and functions. When an attribute is looked up on an instance object and isn't found, Python falls back to the resolving the attribute on the class object of that instance object.\n",
    "\n",
    "This can lead to some surprising, hard-to-track-down bugs.\n",
    "\n",
    "Suppose that we want to add a feature to our class, where each home can have its own collection of appliances, and we can install new appliances into a home."
   ]
  },
  {
   "cell_type": "code",
   "execution_count": 1,
   "id": "bd196ff0",
   "metadata": {},
   "outputs": [],
   "source": [
    "class House:\n",
    "    appliances = []\n",
    "    def __init__(self, size):\n",
    "        self.size = size\n",
    "    def install(self, appliance):\n",
    "        self.appliances.append(appliance)"
   ]
  },
  {
   "cell_type": "code",
   "execution_count": 2,
   "id": "a0e414cb",
   "metadata": {},
   "outputs": [
    {
     "name": "stdout",
     "output_type": "stream",
     "text": [
      "['oven', 'microwave']\n",
      "['oven', 'microwave']\n"
     ]
    }
   ],
   "source": [
    "home = House(1000)\n",
    "vacation_home = House(5000)\n",
    "\n",
    "home.install('oven')\n",
    "home.install('microwave')\n",
    "print(home.appliances)  # ['oven', 'microwave'] - good! what we wanted\n",
    "print(vacation_home.appliances)  # ['oven', 'microwave'] - oh no! we didn't want this"
   ]
  },
  {
   "cell_type": "code",
   "execution_count": 3,
   "id": "a80d1233",
   "metadata": {},
   "outputs": [
    {
     "name": "stdout",
     "output_type": "stream",
     "text": [
      "140271914456960\n",
      "{'size': 1000}\n",
      "{'__module__': '__main__', 'appliances': ['oven', 'microwave'], '__init__': <function House.__init__ at 0x7f93999fb550>, 'install': <function House.install at 0x7f93999fb1f0>, '__dict__': <attribute '__dict__' of 'House' objects>, '__weakref__': <attribute '__weakref__' of 'House' objects>, '__doc__': None}\n",
      "['oven', 'microwave']\n",
      "140271914456960\n",
      "140271914456960\n"
     ]
    }
   ],
   "source": [
    "print(id(home.appliances))  # => 45...1632\n",
    "print(home.__dict__)  # {'size': 1000}\n",
    "print(House.__dict__)\n",
    "# {\n",
    "#     'appliances': ['oven', 'microwave']\n",
    "#     ... other stuff\n",
    "# }\n",
    "\n",
    "print(House.appliances)  # ['oven', 'microwave']\n",
    "print(id(House.appliances))  # 45...1632\n",
    "print(id(vacation_home.appliances))  # 45...1632"
   ]
  },
  {
   "cell_type": "markdown",
   "id": "773dd250",
   "metadata": {},
   "source": [
    "## Fixing Up\n",
    "\n",
    "To solve this bug, we'll need to change the appliances attribute from being an attribute on the class object (and therefore \"shared\" by all instance objects) to being an attribute defined for each instance object, so that each individual home has its own collection of appliances."
   ]
  },
  {
   "cell_type": "code",
   "execution_count": 4,
   "id": "38675759",
   "metadata": {},
   "outputs": [],
   "source": [
    "class House:\n",
    "    def __init__(self, size):\n",
    "        self.size = size\n",
    "        self.appliances = []\n",
    "    def install(self, appliance):\n",
    "        self.appliances.append(appliance)"
   ]
  },
  {
   "cell_type": "code",
   "execution_count": 5,
   "id": "2b00e828",
   "metadata": {},
   "outputs": [],
   "source": [
    "home = House(1000)\n",
    "vacation_home = House(5000)"
   ]
  },
  {
   "cell_type": "code",
   "execution_count": 6,
   "id": "84939a55",
   "metadata": {},
   "outputs": [
    {
     "name": "stdout",
     "output_type": "stream",
     "text": [
      "False\n"
     ]
    }
   ],
   "source": [
    "# The two homes no longer share a single list of appliances!\n",
    "print(home.appliances is vacation_home.appliances)  # False"
   ]
  },
  {
   "cell_type": "code",
   "execution_count": 7,
   "id": "79d68d71",
   "metadata": {},
   "outputs": [
    {
     "name": "stdout",
     "output_type": "stream",
     "text": [
      "['oven', 'microwave']\n"
     ]
    }
   ],
   "source": [
    "home.install('oven')\n",
    "home.install('microwave')\n",
    "print(home.appliances)  # ['oven', 'microwave'] - good! what we wanted"
   ]
  },
  {
   "cell_type": "code",
   "execution_count": 8,
   "id": "0777c197",
   "metadata": {},
   "outputs": [
    {
     "name": "stdout",
     "output_type": "stream",
     "text": [
      "[]\n"
     ]
    }
   ],
   "source": [
    "print(vacation_home.appliances)  # [] - good! what we wanted"
   ]
  },
  {
   "cell_type": "code",
   "execution_count": 9,
   "id": "bc4ad2e0",
   "metadata": {},
   "outputs": [
    {
     "name": "stdout",
     "output_type": "stream",
     "text": [
      "{'size': 1000, 'appliances': ['oven', 'microwave']}\n"
     ]
    }
   ],
   "source": [
    "print(home.__dict__)  # {'size': 1000, 'appliances': ['oven', 'microwave']}"
   ]
  },
  {
   "cell_type": "code",
   "execution_count": 10,
   "id": "ffe0f067",
   "metadata": {},
   "outputs": [
    {
     "name": "stdout",
     "output_type": "stream",
     "text": [
      "{'size': 5000, 'appliances': []}\n"
     ]
    }
   ],
   "source": [
    "print(vacation_home.__dict__)  # {'size': 5000, 'appliances': []}"
   ]
  },
  {
   "cell_type": "markdown",
   "id": "d53bbd13",
   "metadata": {},
   "source": [
    "## Debugging\n",
    "\n",
    "Each of the following cells contains a bug related to attributes on instance and class objects.\n",
    "\n",
    "For each, update the code so that the marked block of test code runs correctly.\n"
   ]
  },
  {
   "cell_type": "code",
   "execution_count": 62,
   "id": "b73d77ec",
   "metadata": {},
   "outputs": [],
   "source": [
    "class Dog:\n",
    "    #tricks = set()\n",
    "    def __init__(self, name):\n",
    "        self.name = name\n",
    "        self.tricks = set()\n",
    "    def teach(self, trick):\n",
    "        self.tricks.add(trick)\n",
    "        \n",
    "# Change the broken code above so that the following lines work:\n",
    "# \n",
    "# buddy = Dog('Buddy')\n",
    "# pascal = Dog('Pascal')\n",
    "# buddy.teach('sit')\n",
    "# pascal.teach('fetch')\n",
    "# buddy.teach('roll over')\n",
    "# print(buddy.tricks)  # {'roll over', 'sit'}\n",
    "# print(pascal.tricks)  # {'fetch'}"
   ]
  },
  {
   "cell_type": "code",
   "execution_count": 63,
   "id": "3c125e47",
   "metadata": {},
   "outputs": [],
   "source": [
    "buddy = Dog('Buddy')\n",
    "pascal = Dog('Pascal')\n",
    "buddy.teach('sit')\n",
    "pascal.teach('fetch')\n",
    "buddy.teach('roll over')"
   ]
  },
  {
   "cell_type": "code",
   "execution_count": 64,
   "id": "3a89c026",
   "metadata": {},
   "outputs": [
    {
     "name": "stdout",
     "output_type": "stream",
     "text": [
      "{'roll over', 'sit'}\n"
     ]
    }
   ],
   "source": [
    "print(buddy.tricks)  # {'roll over', 'sit'}"
   ]
  },
  {
   "cell_type": "code",
   "execution_count": 65,
   "id": "7ee4dca2",
   "metadata": {},
   "outputs": [
    {
     "name": "stdout",
     "output_type": "stream",
     "text": [
      "{'fetch'}\n"
     ]
    }
   ],
   "source": [
    "print(pascal.tricks)  # {'fetch'}"
   ]
  },
  {
   "cell_type": "code",
   "execution_count": 66,
   "id": "8201a056",
   "metadata": {},
   "outputs": [],
   "source": [
    "class Dog:\n",
    "    def __init__(self, name, tricks=None):\n",
    "        self.name = name\n",
    "        if tricks is None:\n",
    "            tricks = set()\n",
    "        self.tricks = tricks\n",
    "        \n",
    "    def teach(self, trick):\n",
    "        self.tricks.add(trick)\n",
    "        \n",
    "        \n",
    "# Change the broken code above so that the following lines work:\n",
    "# \n",
    "# buddy = Dog('Buddy')\n",
    "# pascal = Dog('Pascal')\n",
    "# kimber = Dog('Kimber', tricks={'lie down', 'shake'})\n",
    "# buddy.teach('sit')\n",
    "# pascal.teach('fetch')\n",
    "# buddy.teach('roll over')\n",
    "# kimber.teach('fetch')\n",
    "# print(buddy.tricks)  # {'roll over', 'sit'}\n",
    "# print(pascal.tricks)  # {'fetch'}\n",
    "# print(kimber.tricks)  # {'fetch', 'shake', 'lie down'}"
   ]
  },
  {
   "cell_type": "code",
   "execution_count": 67,
   "id": "b394d024",
   "metadata": {},
   "outputs": [],
   "source": [
    "buddy = Dog('Buddy')\n",
    "pascal = Dog('Pascal')\n",
    "kimber = Dog('Kimber', tricks={'lie down', 'shake'})\n",
    "buddy.teach('sit')\n",
    "pascal.teach('fetch')\n",
    "buddy.teach('roll over')\n",
    "kimber.teach('fetch')"
   ]
  },
  {
   "cell_type": "code",
   "execution_count": 68,
   "id": "3bb3852b",
   "metadata": {},
   "outputs": [
    {
     "name": "stdout",
     "output_type": "stream",
     "text": [
      "{'roll over', 'sit'}\n"
     ]
    }
   ],
   "source": [
    "print(buddy.tricks)  # {'roll over', 'sit'}"
   ]
  },
  {
   "cell_type": "code",
   "execution_count": 69,
   "id": "864ef548",
   "metadata": {},
   "outputs": [
    {
     "name": "stdout",
     "output_type": "stream",
     "text": [
      "{'fetch'}\n"
     ]
    }
   ],
   "source": [
    "print(pascal.tricks)  # {'fetch'}"
   ]
  },
  {
   "cell_type": "code",
   "execution_count": 70,
   "id": "17c92791",
   "metadata": {},
   "outputs": [
    {
     "name": "stdout",
     "output_type": "stream",
     "text": [
      "{'shake', 'lie down', 'fetch'}\n"
     ]
    }
   ],
   "source": [
    "print(kimber.tricks)  # {'fetch', 'shake', 'lie down'}"
   ]
  },
  {
   "cell_type": "code",
   "execution_count": 74,
   "id": "11906890",
   "metadata": {},
   "outputs": [],
   "source": [
    "class User:\n",
    "    # An (intentionally shared) collection storing users who sign up for some hypothetical service.\n",
    "    # There's only one set of members, so it lives at the class level!\n",
    "    members = set()\n",
    "    def __init__(self, name):\n",
    "        self.name = name\n",
    "        #self.members = set()  # Not signed up to begin with.\n",
    "    def sign_up(self):\n",
    "        self.members.add(self.name)\n",
    "\n"
   ]
  },
  {
   "cell_type": "code",
   "execution_count": 75,
   "id": "d6ad7ae1",
   "metadata": {},
   "outputs": [
    {
     "name": "stdout",
     "output_type": "stream",
     "text": [
      "set()\n",
      "{'cristina', 'heather'}\n"
     ]
    }
   ],
   "source": [
    "# Change the code above so that the following lines work:\n",
    "# \n",
    "sarah = User('sarah')\n",
    "heather = User('heather')\n",
    "cristina = User('cristina')\n",
    "print(User.members)  # set()\n",
    "heather.sign_up()\n",
    "cristina.sign_up()\n",
    "print(User.members)  # {'heather', 'cristina'}"
   ]
  },
  {
   "cell_type": "code",
   "execution_count": null,
   "id": "fb4c9549",
   "metadata": {},
   "outputs": [],
   "source": []
  }
 ],
 "metadata": {
  "kernelspec": {
   "display_name": "Python 3 (ipykernel)",
   "language": "python",
   "name": "python3"
  },
  "language_info": {
   "codemirror_mode": {
    "name": "ipython",
    "version": 3
   },
   "file_extension": ".py",
   "mimetype": "text/x-python",
   "name": "python",
   "nbconvert_exporter": "python",
   "pygments_lexer": "ipython3",
   "version": "3.9.12"
  }
 },
 "nbformat": 4,
 "nbformat_minor": 5
}
