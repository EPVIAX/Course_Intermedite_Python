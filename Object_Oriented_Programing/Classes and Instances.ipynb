{
 "cells": [
  {
   "cell_type": "code",
   "execution_count": 1,
   "id": "bca6f838",
   "metadata": {},
   "outputs": [],
   "source": [
    "class MyFirstClass:\n",
    "    \"\"\"A simple example class.\"\"\"\n",
    "    num = 12345\n",
    "    def greet(self):\n",
    "        return \"Hello, world\""
   ]
  },
  {
   "cell_type": "code",
   "execution_count": 2,
   "id": "005b36a6",
   "metadata": {},
   "outputs": [
    {
     "data": {
      "text/plain": [
       "__main__.MyFirstClass"
      ]
     },
     "execution_count": 2,
     "metadata": {},
     "output_type": "execute_result"
    }
   ],
   "source": [
    "MyFirstClass"
   ]
  },
  {
   "cell_type": "code",
   "execution_count": 3,
   "id": "20e9b59d",
   "metadata": {},
   "outputs": [
    {
     "data": {
      "text/plain": [
       "12345"
      ]
     },
     "execution_count": 3,
     "metadata": {},
     "output_type": "execute_result"
    }
   ],
   "source": [
    "MyFirstClass.num"
   ]
  },
  {
   "cell_type": "code",
   "execution_count": 4,
   "id": "0b4a36b8",
   "metadata": {},
   "outputs": [
    {
     "data": {
      "text/plain": [
       "<function __main__.MyFirstClass.greet(self)>"
      ]
     },
     "execution_count": 4,
     "metadata": {},
     "output_type": "execute_result"
    }
   ],
   "source": [
    "MyFirstClass.greet"
   ]
  },
  {
   "cell_type": "code",
   "execution_count": 11,
   "id": "c99d6ebe",
   "metadata": {},
   "outputs": [
    {
     "name": "stdout",
     "output_type": "stream",
     "text": [
      "12345\n",
      "<function MyFirstClass.greet at 0x7fbf9027a9d0>\n"
     ]
    }
   ],
   "source": [
    "print(MyFirstClass.num)  # 12345\n",
    "print(MyFirstClass.greet)  # <function MyFirstClass.greet(self)>"
   ]
  },
  {
   "cell_type": "code",
   "execution_count": 12,
   "id": "b07b411e",
   "metadata": {},
   "outputs": [
    {
     "name": "stdout",
     "output_type": "stream",
     "text": [
      "<class 'mappingproxy'>\n",
      "True\n",
      "True\n"
     ]
    }
   ],
   "source": [
    "print(type(MyFirstClass.__dict__))  # something that acts a lot like a normal dictionary\n",
    "print('num' in MyFirstClass.__dict__)  # True\n",
    "print('greet' in MyFirstClass.__dict__)  # True"
   ]
  },
  {
   "cell_type": "code",
   "execution_count": 24,
   "id": "18f86ad0",
   "metadata": {},
   "outputs": [],
   "source": [
    "class MySecondClass:\n",
    "    favorite_number = 41\n",
    "    def print_number(number):\n",
    "        print(number)"
   ]
  },
  {
   "cell_type": "code",
   "execution_count": 25,
   "id": "e59299e4",
   "metadata": {},
   "outputs": [
    {
     "name": "stdout",
     "output_type": "stream",
     "text": [
      "41\n"
     ]
    }
   ],
   "source": [
    "print(MySecondClass.favorite_number)"
   ]
  },
  {
   "cell_type": "code",
   "execution_count": 26,
   "id": "ffdededb",
   "metadata": {},
   "outputs": [
    {
     "name": "stdout",
     "output_type": "stream",
     "text": [
      "41\n"
     ]
    }
   ],
   "source": [
    "print(MySecondClass.__dict__['favorite_number'])"
   ]
  },
  {
   "cell_type": "code",
   "execution_count": 27,
   "id": "1567389f",
   "metadata": {},
   "outputs": [
    {
     "name": "stdout",
     "output_type": "stream",
     "text": [
      "41\n"
     ]
    }
   ],
   "source": [
    "MySecondClass.print_number(41)"
   ]
  },
  {
   "cell_type": "markdown",
   "id": "58284b1c",
   "metadata": {},
   "source": [
    "## Instantiating Class Objects\n",
    "We can define class objects and resolve attributes on them. How do we make instances of a class? Through instantiation! The syntax ClassName(...) constructs a new instance object whose type is the class object ClassName."
   ]
  },
  {
   "cell_type": "code",
   "execution_count": 28,
   "id": "d92c89f6",
   "metadata": {},
   "outputs": [],
   "source": [
    "class House:\n",
    "    layout = 'square'\n",
    "    def paint(self, color):\n",
    "        self.color = color"
   ]
  },
  {
   "cell_type": "code",
   "execution_count": 29,
   "id": "e6bbaa82",
   "metadata": {},
   "outputs": [
    {
     "name": "stdout",
     "output_type": "stream",
     "text": [
      "square\n",
      "<function House.paint at 0x7fbf60068f70>\n"
     ]
    }
   ],
   "source": [
    "# As before, we can access attributes.\n",
    "print(House.layout)  # 'square'\n",
    "print(House.paint)  # <function House.paint(self, color)>"
   ]
  },
  {
   "cell_type": "code",
   "execution_count": 30,
   "id": "8e8f38ec",
   "metadata": {},
   "outputs": [
    {
     "name": "stdout",
     "output_type": "stream",
     "text": [
      "<__main__.House object at 0x7fbf60065a60>\n",
      "True\n"
     ]
    }
   ],
   "source": [
    "# This is the new syntax! Instantiate a class object to get back an instance object.\n",
    "home = House()  # `home` is now a _specific_ instance object of type `House`\n",
    "print(home)  # <House at 0x....>\n",
    "print(type(home) is House)  # True"
   ]
  },
  {
   "cell_type": "code",
   "execution_count": 31,
   "id": "0850de72",
   "metadata": {},
   "outputs": [],
   "source": [
    "class Door:\n",
    "    shape = 'rectangular'\n",
    "    def open(self):\n",
    "        print(\"Opening the door!\")\n",
    "\n",
    "front_door = Door()"
   ]
  },
  {
   "cell_type": "code",
   "execution_count": 39,
   "id": "f77c845c",
   "metadata": {},
   "outputs": [
    {
     "name": "stdout",
     "output_type": "stream",
     "text": [
      "<class '__main__.Door'>\n"
     ]
    }
   ],
   "source": [
    "print(Door)"
   ]
  },
  {
   "cell_type": "code",
   "execution_count": 42,
   "id": "2caf6292",
   "metadata": {},
   "outputs": [
    {
     "name": "stdout",
     "output_type": "stream",
     "text": [
      "<__main__.Door object at 0x7fbf60065d00>\n"
     ]
    }
   ],
   "source": [
    "print(front_door)"
   ]
  },
  {
   "cell_type": "code",
   "execution_count": 41,
   "id": "d52ab500",
   "metadata": {},
   "outputs": [
    {
     "name": "stdout",
     "output_type": "stream",
     "text": [
      "<class 'str'>\n"
     ]
    }
   ],
   "source": [
    "print(str)"
   ]
  },
  {
   "cell_type": "code",
   "execution_count": 43,
   "id": "2312b76c",
   "metadata": {},
   "outputs": [
    {
     "name": "stdout",
     "output_type": "stream",
     "text": [
      "<class 'int'>\n"
     ]
    }
   ],
   "source": [
    "print(int)"
   ]
  },
  {
   "cell_type": "code",
   "execution_count": 44,
   "id": "eb044e4d",
   "metadata": {},
   "outputs": [],
   "source": [
    "class Houseboat:\n",
    "    layout = 'boaty'\n",
    "    def paint(self, color):\n",
    "        self.color = color"
   ]
  },
  {
   "cell_type": "code",
   "execution_count": 47,
   "id": "9599c0a8",
   "metadata": {},
   "outputs": [
    {
     "name": "stdout",
     "output_type": "stream",
     "text": [
      "<class '__main__.Houseboat'>\n"
     ]
    }
   ],
   "source": [
    "boat = Houseboat\n",
    "print(boat)"
   ]
  },
  {
   "cell_type": "code",
   "execution_count": 48,
   "id": "19928db1",
   "metadata": {},
   "outputs": [
    {
     "name": "stdout",
     "output_type": "stream",
     "text": [
      "<__main__.Houseboat object at 0x7fbfb0ae2a60>\n"
     ]
    }
   ],
   "source": [
    "boat = Houseboat()\n",
    "print(boat)"
   ]
  },
  {
   "cell_type": "markdown",
   "id": "3cef28aa",
   "metadata": {},
   "source": [
    "## To summarize -\n",
    "\n",
    "    Class objects are defined with the class keyword and maintain attributes that can be set (in the class definition or elsewhere) and accessed.\n",
    "    Class objects can be instantiated to produce instance objects.\n",
    "    Class objects represents a type or category of object, and instance objects represent a concrete instantiation of that category.\n",
    "\n",
    "## Further Reading\n",
    "\n",
    "    Class Objects: Python's tutorial introducing class objects.\n",
    "    Instance Objects: Python's tutorial introducing instance objects."
   ]
  },
  {
   "cell_type": "markdown",
   "id": "3c1e8fbf",
   "metadata": {},
   "source": [
    "# Attribute Resolution"
   ]
  },
  {
   "cell_type": "code",
   "execution_count": 54,
   "id": "fa3fda5b",
   "metadata": {},
   "outputs": [
    {
     "data": {
      "text/plain": [
       "<__main__.House at 0x7fbf60065a60>"
      ]
     },
     "execution_count": 54,
     "metadata": {},
     "output_type": "execute_result"
    }
   ],
   "source": [
    "home"
   ]
  },
  {
   "cell_type": "code",
   "execution_count": 53,
   "id": "3f30f5f1",
   "metadata": {},
   "outputs": [
    {
     "name": "stdout",
     "output_type": "stream",
     "text": [
      "1000\n",
      "{'size': '1000'}\n"
     ]
    }
   ],
   "source": [
    "home.size = '1000'\n",
    "print(home.size)  # 1000\n",
    "print(home.__dict__)  # {'size': '1000'}"
   ]
  },
  {
   "cell_type": "code",
   "execution_count": 55,
   "id": "cc642650",
   "metadata": {},
   "outputs": [
    {
     "name": "stdout",
     "output_type": "stream",
     "text": [
      "{'size': '1000', 'color': 'red'}\n"
     ]
    }
   ],
   "source": [
    "home.color = 'red'\n",
    "print(home.__dict__)  # {'size': '1000', 'color': 'red'}"
   ]
  },
  {
   "cell_type": "code",
   "execution_count": 56,
   "id": "c2b45373",
   "metadata": {},
   "outputs": [
    {
     "name": "stdout",
     "output_type": "stream",
     "text": [
      "{'size': '1000', 'color': 'red', 'num_bathrooms': 2, 'num_bedrooms': 3}\n"
     ]
    }
   ],
   "source": [
    "home.num_bathrooms = 2\n",
    "home.num_bedrooms = 3\n",
    "print(home.__dict__)  # {'size': '1000', 'color': 'red', 'num_bathrooms': 2, 'num_bedrooms': 3}"
   ]
  },
  {
   "cell_type": "code",
   "execution_count": 57,
   "id": "36957f83",
   "metadata": {},
   "outputs": [
    {
     "name": "stdout",
     "output_type": "stream",
     "text": [
      "blue\n",
      "2\n"
     ]
    }
   ],
   "source": [
    "home.color = 'blue'\n",
    "print(home.color)  # blue\n",
    "print(home.num_bathrooms)  # 2"
   ]
  },
  {
   "cell_type": "code",
   "execution_count": 58,
   "id": "9bf2cb15",
   "metadata": {},
   "outputs": [
    {
     "name": "stdout",
     "output_type": "stream",
     "text": [
      "{'size': '1000', 'color': 'blue', 'num_bathrooms': 2, 'num_bedrooms': 3}\n"
     ]
    }
   ],
   "source": [
    "print(home.__dict__)"
   ]
  },
  {
   "cell_type": "markdown",
   "id": "4ef728e5",
   "metadata": {},
   "source": [
    "Special Functions\n",
    "\n",
    "Python offers the special functions getattr, setattr, and delattr to perform these operations, if you would like to think of them functionally.\n",
    "\n",
    "Specifically:\n",
    "\n",
    "    getattr(x, 'y') is equivalent to x.y. It also accepts a default fallback value if the attribute isn't found.\n",
    "    setattr(x, 'y', z) is equivalent to x.y = z\n",
    "    delattr(x, 'y') is equivalent to del x.y"
   ]
  },
  {
   "cell_type": "code",
   "execution_count": 59,
   "id": "dd75e876",
   "metadata": {},
   "outputs": [],
   "source": [
    "setattr(home, 'color', 'orange')"
   ]
  },
  {
   "cell_type": "code",
   "execution_count": 60,
   "id": "dc3c28a4",
   "metadata": {},
   "outputs": [
    {
     "name": "stdout",
     "output_type": "stream",
     "text": [
      "{'size': '1000', 'color': 'orange', 'num_bathrooms': 2, 'num_bedrooms': 3}\n"
     ]
    }
   ],
   "source": [
    "print(home.__dict__)"
   ]
  },
  {
   "cell_type": "markdown",
   "id": "a4e5055d",
   "metadata": {},
   "source": [
    "To summarize:\n",
    "\n",
    "- Attributes are names that come after a dot, like obj.name and represent some information that is attached to an object.\n",
    "- Attributes can be retrieved or arbitrarily assigned on class objects or instance objects.\n",
    "- Class objects and instance objects each store their attributes in a special __dict__ attribute."
   ]
  },
  {
   "cell_type": "code",
   "execution_count": null,
   "id": "f4e78d41",
   "metadata": {},
   "outputs": [],
   "source": []
  }
 ],
 "metadata": {
  "kernelspec": {
   "display_name": "Python 3 (ipykernel)",
   "language": "python",
   "name": "python3"
  },
  "language_info": {
   "codemirror_mode": {
    "name": "ipython",
    "version": 3
   },
   "file_extension": ".py",
   "mimetype": "text/x-python",
   "name": "python",
   "nbconvert_exporter": "python",
   "pygments_lexer": "ipython3",
   "version": "3.9.12"
  }
 },
 "nbformat": 4,
 "nbformat_minor": 5
}
