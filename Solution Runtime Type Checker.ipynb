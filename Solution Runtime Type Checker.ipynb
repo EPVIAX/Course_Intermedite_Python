{
 "cells": [
  {
   "cell_type": "markdown",
   "id": "9a37f937",
   "metadata": {},
   "source": [
    "## Runtime Type Checker"
   ]
  },
  {
   "cell_type": "code",
   "execution_count": 7,
   "id": "52f146e4",
   "metadata": {},
   "outputs": [],
   "source": [
    "import inspect\n",
    "\n",
    "def bind_args(function, *args, **kwargs):\n",
    "    return inspect.signature(function).bind(*args, **kwargs).arguments\n"
   ]
  },
  {
   "cell_type": "code",
   "execution_count": 8,
   "id": "8a755c71",
   "metadata": {},
   "outputs": [],
   "source": [
    "import functools\n",
    "\n",
    "def check_types(severity=1):\n",
    "    if severity == 0:\n",
    "        return lambda function: function\n",
    "\n",
    "    def message(msg):\n",
    "        if severity == 1:\n",
    "            print(msg)\n",
    "        else:\n",
    "            raise TypeError(msg)\n",
    "    def checker(function):\n",
    "        expected = function.__annotations__\n",
    "\n",
    "        assert(all(map(lambda exp: isinstance(exp, type), expected.values())))\n",
    "        if not expected:\n",
    "            return function\n",
    "        @functools.wraps(function)\n",
    "        def wrapper(*args, **kwargs):\n",
    "            bound_arguments = bind_args(function, *args, **kwargs)\n",
    "            for arg, val in bound_arguments.items():\n",
    "                if arg not in expected:\n",
    "                    continue\n",
    "                if not isinstance(val, expected[arg]):\n",
    "                    message(f\"Bad Argument! Received {arg}={val}, expecting object of type {expected[arg]}\")\n",
    "            retval = function(*args, **kwargs)\n",
    "            if 'return' in expected and not isinstance(retval, expected['return']):\n",
    "                message(f\"Bad Return Value! Received {retval}, but expected value of type {expected['return']}\")\n",
    "            return retval\n",
    "        return wrapper\n",
    "    return checker"
   ]
  },
  {
   "cell_type": "code",
   "execution_count": 9,
   "id": "d05e10df",
   "metadata": {},
   "outputs": [],
   "source": [
    "@check_types(severity=2)\n",
    "def foo(a: int, b: str) -> bool:\n",
    "    return b[a] == 'X'"
   ]
  },
  {
   "cell_type": "code",
   "execution_count": 10,
   "id": "dfe42b8f",
   "metadata": {},
   "outputs": [
    {
     "data": {
      "text/plain": [
       "False"
      ]
     },
     "execution_count": 10,
     "metadata": {},
     "output_type": "execute_result"
    }
   ],
   "source": [
    "foo(3, 'ABCDE') "
   ]
  },
  {
   "cell_type": "code",
   "execution_count": 11,
   "id": "53dbbeea",
   "metadata": {},
   "outputs": [
    {
     "data": {
      "text/plain": [
       "{'a': int, 'b': str, 'return': bool}"
      ]
     },
     "execution_count": 11,
     "metadata": {},
     "output_type": "execute_result"
    }
   ],
   "source": [
    "foo.__annotations__"
   ]
  },
  {
   "cell_type": "code",
   "execution_count": 12,
   "id": "ceda5980",
   "metadata": {},
   "outputs": [
    {
     "data": {
      "text/plain": [
       "True"
      ]
     },
     "execution_count": 12,
     "metadata": {},
     "output_type": "execute_result"
    }
   ],
   "source": [
    "foo(3, 'ABCXE') "
   ]
  },
  {
   "cell_type": "code",
   "execution_count": 14,
   "id": "7f3eef7c",
   "metadata": {},
   "outputs": [],
   "source": [
    "def demonstrate_complex_arguments(a, b=1, *c, d=1, **e):\n",
    "    pass"
   ]
  },
  {
   "cell_type": "code",
   "execution_count": 16,
   "id": "d6f518be",
   "metadata": {},
   "outputs": [
    {
     "name": "stdout",
     "output_type": "stream",
     "text": [
      "{'a': 1, 'b': 2, 'c': (3, 4), 'd': 10, 'e': {'e': 11, 'f': 12, 'g': 13}}\n"
     ]
    }
   ],
   "source": [
    "print(dict(bind_args(demonstrate_complex_arguments, 1, 2, 3, 4, d=10, e=11, f=12, g=13)))"
   ]
  },
  {
   "cell_type": "code",
   "execution_count": 17,
   "id": "11118d9c",
   "metadata": {},
   "outputs": [
    {
     "ename": "TypeError",
     "evalue": "Bad Argument! Received a=WXYZ, expecting object of type <class 'int'>",
     "output_type": "error",
     "traceback": [
      "\u001b[0;31m---------------------------------------------------------------------------\u001b[0m",
      "\u001b[0;31mTypeError\u001b[0m                                 Traceback (most recent call last)",
      "Input \u001b[0;32mIn [17]\u001b[0m, in \u001b[0;36m<cell line: 1>\u001b[0;34m()\u001b[0m\n\u001b[0;32m----> 1\u001b[0m \u001b[43mfoo\u001b[49m\u001b[43m(\u001b[49m\u001b[38;5;124;43m'\u001b[39;49m\u001b[38;5;124;43mWXYZ\u001b[39;49m\u001b[38;5;124;43m'\u001b[39;49m\u001b[43m,\u001b[49m\u001b[43m \u001b[49m\u001b[38;5;241;43m1\u001b[39;49m\u001b[43m)\u001b[49m\n",
      "Input \u001b[0;32mIn [8]\u001b[0m, in \u001b[0;36mcheck_types.<locals>.checker.<locals>.wrapper\u001b[0;34m(*args, **kwargs)\u001b[0m\n\u001b[1;32m     23\u001b[0m         \u001b[38;5;28;01mcontinue\u001b[39;00m\n\u001b[1;32m     24\u001b[0m     \u001b[38;5;28;01mif\u001b[39;00m \u001b[38;5;129;01mnot\u001b[39;00m \u001b[38;5;28misinstance\u001b[39m(val, expected[arg]):\n\u001b[0;32m---> 25\u001b[0m         \u001b[43mmessage\u001b[49m\u001b[43m(\u001b[49m\u001b[38;5;124;43mf\u001b[39;49m\u001b[38;5;124;43m\"\u001b[39;49m\u001b[38;5;124;43mBad Argument! Received \u001b[39;49m\u001b[38;5;132;43;01m{\u001b[39;49;00m\u001b[43marg\u001b[49m\u001b[38;5;132;43;01m}\u001b[39;49;00m\u001b[38;5;124;43m=\u001b[39;49m\u001b[38;5;132;43;01m{\u001b[39;49;00m\u001b[43mval\u001b[49m\u001b[38;5;132;43;01m}\u001b[39;49;00m\u001b[38;5;124;43m, expecting object of type \u001b[39;49m\u001b[38;5;132;43;01m{\u001b[39;49;00m\u001b[43mexpected\u001b[49m\u001b[43m[\u001b[49m\u001b[43marg\u001b[49m\u001b[43m]\u001b[49m\u001b[38;5;132;43;01m}\u001b[39;49;00m\u001b[38;5;124;43m\"\u001b[39;49m\u001b[43m)\u001b[49m\n\u001b[1;32m     26\u001b[0m retval \u001b[38;5;241m=\u001b[39m function(\u001b[38;5;241m*\u001b[39margs, \u001b[38;5;241m*\u001b[39m\u001b[38;5;241m*\u001b[39mkwargs)\n\u001b[1;32m     27\u001b[0m \u001b[38;5;28;01mif\u001b[39;00m \u001b[38;5;124m'\u001b[39m\u001b[38;5;124mreturn\u001b[39m\u001b[38;5;124m'\u001b[39m \u001b[38;5;129;01min\u001b[39;00m expected \u001b[38;5;129;01mand\u001b[39;00m \u001b[38;5;129;01mnot\u001b[39;00m \u001b[38;5;28misinstance\u001b[39m(retval, expected[\u001b[38;5;124m'\u001b[39m\u001b[38;5;124mreturn\u001b[39m\u001b[38;5;124m'\u001b[39m]):\n",
      "Input \u001b[0;32mIn [8]\u001b[0m, in \u001b[0;36mcheck_types.<locals>.message\u001b[0;34m(msg)\u001b[0m\n\u001b[1;32m      9\u001b[0m     \u001b[38;5;28mprint\u001b[39m(msg)\n\u001b[1;32m     10\u001b[0m \u001b[38;5;28;01melse\u001b[39;00m:\n\u001b[0;32m---> 11\u001b[0m     \u001b[38;5;28;01mraise\u001b[39;00m \u001b[38;5;167;01mTypeError\u001b[39;00m(msg)\n",
      "\u001b[0;31mTypeError\u001b[0m: Bad Argument! Received a=WXYZ, expecting object of type <class 'int'>"
     ]
    }
   ],
   "source": [
    "foo('WXYZ', 1)"
   ]
  },
  {
   "cell_type": "code",
   "execution_count": 18,
   "id": "627e62b5",
   "metadata": {},
   "outputs": [],
   "source": [
    "@check_types()  # <-- The function is still invoked.\n",
    "def foo(a: int, b: str) -> bool:\n",
    "    return b[a] == 'X'"
   ]
  },
  {
   "cell_type": "code",
   "execution_count": 19,
   "id": "908234d7",
   "metadata": {},
   "outputs": [
    {
     "data": {
      "text/plain": [
       "True"
      ]
     },
     "execution_count": 19,
     "metadata": {},
     "output_type": "execute_result"
    }
   ],
   "source": [
    "foo(1, 'WXYZ')"
   ]
  }
 ],
 "metadata": {
  "kernelspec": {
   "display_name": "Python 3 (ipykernel)",
   "language": "python",
   "name": "python3"
  },
  "language_info": {
   "codemirror_mode": {
    "name": "ipython",
    "version": 3
   },
   "file_extension": ".py",
   "mimetype": "text/x-python",
   "name": "python",
   "nbconvert_exporter": "python",
   "pygments_lexer": "ipython3",
   "version": "3.9.12"
  }
 },
 "nbformat": 4,
 "nbformat_minor": 5
}
