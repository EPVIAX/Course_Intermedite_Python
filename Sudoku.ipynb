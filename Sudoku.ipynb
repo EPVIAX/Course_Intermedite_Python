{
 "cells": [
  {
   "cell_type": "code",
   "execution_count": 29,
   "id": "35a26c0c",
   "metadata": {},
   "outputs": [],
   "source": [
    "def solve_sudoku(puzzle):\n",
    "    # Encontrar una celda vacía\n",
    "    row, col = find_empty_cell(puzzle)\n",
    "\n",
    "    # Si no hay celdas vacías, entonces el sudoku está resuelto\n",
    "    if row is None:\n",
    "        return True\n",
    "\n",
    "    # Probar todos los números del 1 al 9 en la celda vacía\n",
    "    for num in range(1, 10):\n",
    "        if is_valid(puzzle, row, col, num):\n",
    "            # Si el número es válido, lo agregamos a la celda\n",
    "            puzzle[row][col] = num\n",
    "\n",
    "            # Si podemos resolver el sudoku con este número, devolvemos verdadero\n",
    "            if solve_sudoku(puzzle):\n",
    "                return True\n",
    "\n",
    "            # Si no podemos resolver el sudoku con este número, lo quitamos y probamos otro número\n",
    "            puzzle[row][col] = 0\n",
    "\n",
    "    # Si no se puede resolver el sudoku con ninguno de los números, devolvemos falso\n",
    "    return False\n",
    "\n",
    "\n",
    "def find_empty_cell(puzzle):\n",
    "    # Encontrar la primera celda vacía\n",
    "    for row in range(9):\n",
    "        for col in range(9):\n",
    "            if puzzle[row][col] == 0:\n",
    "                return row, col\n",
    "    # Si no hay celdas vacías, devolver None\n",
    "    return None, None\n",
    "\n",
    "\n",
    "def is_valid(puzzle, row, col, num):\n",
    "    #print (\"fila=\", row, \"columna=\", col, \"num=\", num)\n",
    "    # Verificar si el número ya está en la fila\n",
    "    if num in puzzle[row]:\n",
    "        return False\n",
    "\n",
    "    # Verificar si el número ya está en la columna\n",
    "    if num in [puzzle[i][col] for i in range(9)]:\n",
    "        return False\n",
    "\n",
    "    # Verificar si el número ya está en la caja 3x3\n",
    "    box_row = (row // 3) * 3\n",
    "    box_col = (col // 3) * 3\n",
    "    if num in [puzzle[i][j] for i in range(box_row, box_row + 3) for j in range(box_col, box_col + 3)]:\n",
    "        return False\n",
    "\n",
    "    # Si el número no viola las reglas del sudoku, devolver verdadero\n",
    "    return True\n"
   ]
  },
  {
   "cell_type": "code",
   "execution_count": 30,
   "id": "45d1897e",
   "metadata": {},
   "outputs": [],
   "source": [
    "puzzle = [\n",
    "    [3, 7, 0, 0, 0, 2, 0, 9, 0],\n",
    "    [0, 0, 0, 0, 0, 3, 0, 0, 4],\n",
    "    [1, 0, 0, 0, 0, 7, 0, 0, 5],\n",
    "    [0, 4, 3, 0, 0, 0, 0, 0, 0],\n",
    "    [0, 0, 8, 0, 1, 0, 0, 4, 0],\n",
    "    [9, 0, 0, 0, 6, 0, 0, 0, 8],\n",
    "    [8, 0, 0, 0, 0, 1, 2, 0, 0],\n",
    "    [7, 0, 0, 0, 5, 0, 0, 0, 9],\n",
    "    [0, 0, 0, 0, 0, 0, 0, 0, 0]\n",
    "]"
   ]
  },
  {
   "cell_type": "code",
   "execution_count": 31,
   "id": "a26a8e2b",
   "metadata": {},
   "outputs": [
    {
     "data": {
      "text/plain": [
       "True"
      ]
     },
     "execution_count": 31,
     "metadata": {},
     "output_type": "execute_result"
    }
   ],
   "source": [
    "solve_sudoku(puzzle)"
   ]
  },
  {
   "cell_type": "code",
   "execution_count": 32,
   "id": "f26b182b",
   "metadata": {},
   "outputs": [
    {
     "data": {
      "text/plain": [
       "[[3, 7, 4, 5, 8, 2, 6, 9, 1],\n",
       " [2, 5, 6, 1, 9, 3, 7, 8, 4],\n",
       " [1, 8, 9, 6, 4, 7, 3, 2, 5],\n",
       " [5, 4, 3, 9, 7, 8, 1, 6, 2],\n",
       " [6, 2, 8, 3, 1, 5, 9, 4, 7],\n",
       " [9, 1, 7, 2, 6, 4, 5, 3, 8],\n",
       " [8, 9, 5, 4, 3, 1, 2, 7, 6],\n",
       " [7, 3, 2, 8, 5, 6, 4, 1, 9],\n",
       " [4, 6, 1, 7, 2, 9, 8, 5, 3]]"
      ]
     },
     "execution_count": 32,
     "metadata": {},
     "output_type": "execute_result"
    }
   ],
   "source": [
    "puzzle\n"
   ]
  },
  {
   "cell_type": "code",
   "execution_count": null,
   "id": "980f9d13",
   "metadata": {},
   "outputs": [],
   "source": []
  }
 ],
 "metadata": {
  "kernelspec": {
   "display_name": "Python 3 (ipykernel)",
   "language": "python",
   "name": "python3"
  },
  "language_info": {
   "codemirror_mode": {
    "name": "ipython",
    "version": 3
   },
   "file_extension": ".py",
   "mimetype": "text/x-python",
   "name": "python",
   "nbconvert_exporter": "python",
   "pygments_lexer": "ipython3",
   "version": "3.9.12"
  }
 },
 "nbformat": 4,
 "nbformat_minor": 5
}
