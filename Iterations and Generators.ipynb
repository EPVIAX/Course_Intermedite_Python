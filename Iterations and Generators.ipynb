{
 "cells": [
  {
   "cell_type": "code",
   "execution_count": 4,
   "id": "85b16ac2",
   "metadata": {},
   "outputs": [
    {
     "data": {
      "text/plain": [
       "2"
      ]
     },
     "execution_count": 4,
     "metadata": {},
     "output_type": "execute_result"
    }
   ],
   "source": [
    "# Build an iterator over [1,2,3]\n",
    "it = iter([1,2,3])\n",
    "next(it)  # => 1\n",
    "next(it)  # => 2\n",
    "#next(it)  # => 3\n",
    "#next(it)  # raises StopIteration error\n",
    "\n"
   ]
  },
  {
   "cell_type": "code",
   "execution_count": 5,
   "id": "0aa7e2d7",
   "metadata": {},
   "outputs": [
    {
     "ename": "NameError",
     "evalue": "name 'data' is not defined",
     "output_type": "error",
     "traceback": [
      "\u001b[0;31m---------------------------------------------------------------------------\u001b[0m",
      "\u001b[0;31mNameError\u001b[0m                                 Traceback (most recent call last)",
      "Input \u001b[0;32mIn [5]\u001b[0m, in \u001b[0;36m<cell line: 1>\u001b[0;34m()\u001b[0m\n\u001b[0;32m----> 1\u001b[0m \u001b[38;5;28;01mfor\u001b[39;00m element \u001b[38;5;129;01min\u001b[39;00m \u001b[43mdata\u001b[49m:\n\u001b[1;32m      2\u001b[0m     process(element)\n\u001b[1;32m      4\u001b[0m \u001b[38;5;66;03m# actually behaves like\u001b[39;00m\n",
      "\u001b[0;31mNameError\u001b[0m: name 'data' is not defined"
     ]
    }
   ],
   "source": [
    "for element in data:\n",
    "    process(element)\n",
    "\n",
    "# actually behaves like\n",
    "\n",
    "for element in iter(data):\n",
    "    process(element)"
   ]
  },
  {
   "cell_type": "code",
   "execution_count": 6,
   "id": "133dc65d",
   "metadata": {},
   "outputs": [
    {
     "data": {
      "text/plain": [
       "67"
      ]
     },
     "execution_count": 6,
     "metadata": {},
     "output_type": "execute_result"
    }
   ],
   "source": [
    "it = iter(range(100))\n",
    "66 in it\n",
    "next(it)  # => 67"
   ]
  },
  {
   "cell_type": "code",
   "execution_count": 8,
   "id": "1796077b",
   "metadata": {},
   "outputs": [
    {
     "data": {
      "text/plain": [
       "2"
      ]
     },
     "execution_count": 8,
     "metadata": {},
     "output_type": "execute_result"
    }
   ],
   "source": [
    "def generate_ints(n):\n",
    "    for i in range(n):\n",
    "        yield i\n",
    "\n",
    "g = generate_ints(3)  # Doesn't start the function! Just sets up the iterator\n",
    "type(g)  # => <class 'generator'>\n",
    "\n",
    "next(g)  # => 0. Run until the next yield statement.\n",
    "next(g)  # => 1. Run until the next yield statement.\n",
    "next(g)  # => 2. Run until the next yield statement.\n",
    "#next(g)  # raises StopIteration. Finished the function before finding another yield statement."
   ]
  },
  {
   "cell_type": "code",
   "execution_count": 47,
   "id": "c29c3952",
   "metadata": {},
   "outputs": [],
   "source": [
    "def generate_fibs():\n",
    "    a, b = 0, 1\n",
    "    while True:\n",
    "        a, b = b, a + b\n",
    "        yield a, b\n",
    "\n",
    "g = generate_fibs()\n",
    "#next(g)  # => 1\n",
    "#next(g)  # => 1\n",
    "#next(g)  # => 2\n",
    "#next(g)  # => 3\n",
    "#next(g)  # => 5\n",
    "#max(g)   # Don't run this line of code. What happens?"
   ]
  },
  {
   "cell_type": "code",
   "execution_count": 53,
   "id": "6d5435ea",
   "metadata": {},
   "outputs": [
    {
     "data": {
      "text/plain": [
       "(5, 8)"
      ]
     },
     "execution_count": 53,
     "metadata": {},
     "output_type": "execute_result"
    }
   ],
   "source": [
    "next(g)"
   ]
  },
  {
   "cell_type": "code",
   "execution_count": 49,
   "id": "bdc555fb",
   "metadata": {},
   "outputs": [],
   "source": [
    "def fibs_under(n):\n",
    "    for fib in generate_fibs():  # Loops over 1, 1, 2, ...\n",
    "        if fib > n:\n",
    "            break\n",
    "        print(fib)"
   ]
  },
  {
   "cell_type": "code",
   "execution_count": 15,
   "id": "e64e1239",
   "metadata": {},
   "outputs": [
    {
     "name": "stdout",
     "output_type": "stream",
     "text": [
      "1\n",
      "1\n",
      "2\n",
      "3\n",
      "5\n",
      "8\n",
      "13\n",
      "21\n"
     ]
    }
   ],
   "source": [
    "fibs_under(30)"
   ]
  },
  {
   "cell_type": "code",
   "execution_count": 73,
   "id": "bc560344",
   "metadata": {},
   "outputs": [],
   "source": [
    "def generate_tribonacci_numbers():\n",
    "    a, b, c = 0, 0, 1\n",
    "    while True:\n",
    "        a, b, c = b, c, a+b+c # Yield an infinite stream of Tribonacci numbers! The next value of the sequence will be c + b + a.\n",
    "        yield a\n",
    "\n",
    "def is_tribonacci(num):\n",
    "    for trib in generate_tribonacci_numbers():\n",
    "        if trib == num:\n",
    "            return True\n",
    "        elif trib > num:\n",
    "            return False\n",
    "    \"\"\"Return whether `num` is a Tribonacci number.\"\"\"\n",
    "    # Be careful to not loop infinitely!\n",
    "  "
   ]
  },
  {
   "cell_type": "code",
   "execution_count": 87,
   "id": "b6b1d6b0",
   "metadata": {},
   "outputs": [
    {
     "data": {
      "text/plain": [
       "True"
      ]
     },
     "execution_count": 87,
     "metadata": {},
     "output_type": "execute_result"
    }
   ],
   "source": [
    "is_tribonacci(24)"
   ]
  },
  {
   "cell_type": "markdown",
   "id": "e2546e76",
   "metadata": {},
   "source": [
    "## Otra solución"
   ]
  },
  {
   "cell_type": "code",
   "execution_count": 85,
   "id": "cefd8958",
   "metadata": {},
   "outputs": [],
   "source": [
    "def generate_tribonacci_numbers():\n",
    "    a, b, c = 0, 0, 1\n",
    "    while True:\n",
    "        yield a\n",
    "        a, b, c = b, c, a + b + c"
   ]
  },
  {
   "cell_type": "code",
   "execution_count": 86,
   "id": "a9cfa9a7",
   "metadata": {},
   "outputs": [],
   "source": [
    "def is_tribonacci(num):\n",
    "    \"\"\"Return whether `num` is a Tribonacci number.\"\"\"\n",
    "    for n in generate_tribonacci_numbers():\n",
    "        if n < num:\n",
    "            continue\n",
    "        return n == num"
   ]
  },
  {
   "cell_type": "code",
   "execution_count": 91,
   "id": "20e96fb7",
   "metadata": {},
   "outputs": [
    {
     "data": {
      "text/plain": [
       "False"
      ]
     },
     "execution_count": 91,
     "metadata": {},
     "output_type": "execute_result"
    }
   ],
   "source": [
    "is_tribonacci(3)"
   ]
  }
 ],
 "metadata": {
  "kernelspec": {
   "display_name": "Python 3 (ipykernel)",
   "language": "python",
   "name": "python3"
  },
  "language_info": {
   "codemirror_mode": {
    "name": "ipython",
    "version": 3
   },
   "file_extension": ".py",
   "mimetype": "text/x-python",
   "name": "python",
   "nbconvert_exporter": "python",
   "pygments_lexer": "ipython3",
   "version": "3.9.12"
  }
 },
 "nbformat": 4,
 "nbformat_minor": 5
}
