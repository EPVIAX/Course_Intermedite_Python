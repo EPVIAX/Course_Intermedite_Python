{
 "cells": [
  {
   "cell_type": "code",
   "execution_count": null,
   "metadata": {
    "edited": true,
    "gradable": true,
    "grader_id": "bm8yd765tpf",
    "udacity_user_query": ""
   },
   "outputs": [],
   "source": [
    "\"\"\"Check whether a word is 'efficient' - if each letter can be drawn by a pencil without lifting.\"\"\"\n",
    "EFFICIENT_LETTERS = set('BCDGIJLMNOPSUVWZ')\n",
    "\n",
    "def is_efficient(letters):\n",
    "    letters = set(letters)\n",
    "    if len (letters - EFFICIENT_LETTERS) == 0:\n",
    "        return True\n",
    "    else:\n",
    "        return False\n",
    "    "
   ]
  },
  {
   "cell_type": "code",
   "execution_count": 3,
   "metadata": {
    "edited": true,
    "gradable": true,
    "grader_id": "v14o4l83fh",
    "udacity_user_query": ""
   },
   "outputs": [],
   "source": [
    "\"\"\"Swap the keys and values in a mapping.\"\"\"\n",
    "\n",
    "def swap_keys_and_values(d):\n",
    "    new_dict = {}\n",
    "    for key, value in d.items():\n",
    "        if value in new_dict:\n",
    "            new_dict[value].add(key)\n",
    "        else:\n",
    "            new_dict[value]={key}\n",
    "    return new_dict"
   ]
  }
 ],
 "metadata": {
  "grader_mode": "",
  "kernelspec": {
   "display_name": "Python 3",
   "language": "python",
   "name": "python3"
  },
  "language_info": {
   "codemirror_mode": {
    "name": "ipython",
    "version": 3
   },
   "file_extension": ".py",
   "mimetype": "text/x-python",
   "name": "python",
   "nbconvert_exporter": "python",
   "pygments_lexer": "ipython3",
   "version": "3.6.3"
  },
  "showGradeBtn": true
 },
 "nbformat": 4,
 "nbformat_minor": 2
}
